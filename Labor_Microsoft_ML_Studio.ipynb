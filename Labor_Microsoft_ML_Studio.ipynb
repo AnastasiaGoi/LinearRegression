{
 "cells": [
  {
   "cell_type": "markdown",
   "metadata": {},
   "source": [
    "# Лабораторная работа `Microsoft ML Studio`"
   ]
  },
  {
   "cell_type": "markdown",
   "metadata": {},
   "source": [
    "## Предподготовка"
   ]
  },
  {
   "cell_type": "markdown",
   "metadata": {},
   "source": [
    "Зарегистрироваться на: https://studio.azureml.net/\n"
   ]
  },
  {
   "cell_type": "markdown",
   "metadata": {},
   "source": [
    "# Microsoft ML Studio\n",
    "## Машинное обучение Azure"
   ]
  },
  {
   "cell_type": "markdown",
   "metadata": {},
   "source": [
    "Предоставляет разработчикам и специалистам по обработке и анализу данных широкий спектр возможностей для быстрой разработки, обучения и развертывания моделей машинного обучения. "
   ]
  },
  {
   "cell_type": "markdown",
   "metadata": {},
   "source": [
    "# Данные"
   ]
  },
  {
   "cell_type": "markdown",
   "metadata": {},
   "source": [
    "Первое, что вам нужно в машинном обучении, это данные. У Машинное обучение Azure есть несколько стандартных наборов данных, их можно найти в Studio (classic) или импортировать свои данные из разных источников. В этом примере мы будем использовать образец набора данных [«Данные электростанции комбинированного типа»](https://drive.google.com/open?id=1RkP5VIPcCwxQGZkhuH51jZRP_SmyKoRX). Набор данных содержит 9568 точек данных, собранных с электростанции с комбинированным циклом за 6 лет (2006-2011 гг.), в том числе информацию о среднечасовых температурах, давления окружающей среды, относительной влажности и чистой почасовой выработки электроэнергии. [Далее...](http://archive.ics.uci.edu/ml/datasets/Combined+Cycle+Power+Plant#)"
   ]
  },
  {
   "cell_type": "markdown",
   "metadata": {},
   "source": [
    "### Начало работы в Microsoft ML Studio"
   ]
  },
  {
   "cell_type": "markdown",
   "metadata": {},
   "source": [
    "### Эксперимент №1 - Регрессия"
   ]
  },
  {
   "cell_type": "markdown",
   "metadata": {},
   "source": [
    "**Шаг 1**"
   ]
  },
  {
   "cell_type": "markdown",
   "metadata": {},
   "source": [
    "Импортировать набор данных `для регрессии` в ML Studio. **DATASETS => +NEW =>**"
   ]
  },
  {
   "cell_type": "markdown",
   "metadata": {},
   "source": [
    "|-|-|-|-|-|-|-|-|-|-|-|-|-|-|-|-|-|-|-|-|-|-|-|-|-|-|-|-|-|-|-|-|-|-|-|-|-|-|-|-|-|-|-|-|-|-|-|-|-|-|-|-|-|-|-|-|-|-|-|-|-|-|-|-|-|-|-|-|-|-|-|-|-|-|-|-|-|-|-|-|-|-|-|-|-|-|-|-|-|-|-|-|-|-|-|-|-|-|-|-|-|-|-|-|-|-|-|-|-|-|-|-|-\n",
    "\n",
    "\n",
    "\n",
    "Реализация на `на Python`:"
   ]
  },
  {
   "cell_type": "code",
   "execution_count": 8,
   "metadata": {},
   "outputs": [],
   "source": [
    "import pandas as pd\n",
    "df = pd.read_csv('Folds5x2_pp.csv', sep =',')"
   ]
  },
  {
   "cell_type": "markdown",
   "metadata": {},
   "source": [
    "|-|-|-|-|-|-|-|-|-|-|-|-|-|-|-|-|-|-|-|-|-|-|-|-|-|-|-|-|-|-|-|-|-|-|-|-|-|-|-|-|-|-|-|-|-|-|-|-|-|-|-|-|-|-|-|-|-|-|-|-|-|-|-|-|-|-|-|-|-|-|-|-|-|-|-|-|-|-|-|-|-|-|-|-|-|-|-|-|-|-|-|-|-|-|-|-|-|-|-|-|-|-|-|-|-|-|-|-|-|-|-|-|-"
   ]
  },
  {
   "cell_type": "markdown",
   "metadata": {},
   "source": [
    "**Шаг 2**"
   ]
  },
  {
   "cell_type": "markdown",
   "metadata": {},
   "source": [
    "[Создать новый эксперимент](https://docs.microsoft.com/en-us/azure/machine-learning/studio/create-experiment). **EXPERIMENTS => +NEW => Blank Experiment**"
   ]
  },
  {
   "cell_type": "markdown",
   "metadata": {},
   "source": [
    "**Шаг 3**"
   ]
  },
  {
   "cell_type": "markdown",
   "metadata": {},
   "source": [
    "Переименовать эксперимент.  **\"Experiment created on..\" => \"Regression\"**\n"
   ]
  },
  {
   "cell_type": "markdown",
   "metadata": {},
   "source": [
    "**Шаг 4**\n"
   ]
  },
  {
   "cell_type": "markdown",
   "metadata": {},
   "source": [
    "Добавить импортированный набор данных. Перетащить ранее загруженный датасет `Folds5x2_pp.csv` в область экспиримента."
   ]
  },
  {
   "cell_type": "markdown",
   "metadata": {},
   "source": [
    "**Шаг 5**"
   ]
  },
  {
   "cell_type": "markdown",
   "metadata": {},
   "source": [
    "Визуализировать данные. Выбрать **Visualize**.\n",
    "\n",
    "\n",
    "В этом наборе данных каждая строка представляет данные по электростанции комбинированного типа в конкретный момент времени за 6 лет (2006-2011 гг.), а переменные, связанные с каждым показателями в этот момент, отображаются в виде столбцов. Средние значения берутся из различных датчиков, расположенных вокруг станции, которые регистрируют  Мы попытаем спрогнозировать чистую почасовую выработку электроэнергии в крайнем правом столбце, используя предыдущий опыт. \n",
    "\n",
    "\n",
    "Электростанция с комбинированным циклом (CCPP) состоит из газовых турбин (GT), паровых турбин (ST) и парогенераторов с рекуперацией тепла. В CCPP электричество генерируется газовыми и паровыми турбинами, которые объединяются в один цикл и передаются от одной турбины к другой. В то время как Вакуум выбирается из паровой турбины и влияет на него, остальные три из окружающих переменных влияют на производительность GT.\n"
   ]
  },
  {
   "cell_type": "markdown",
   "metadata": {},
   "source": [
    "|-|-|-|-|-|-|-|-|-|-|-|-|-|-|-|-|-|-|-|-|-|-|-|-|-|-|-|-|-|-|-|-|-|-|-|-|-|-|-|-|-|-|-|-|-|-|-|-|-|-|-|-|-|-|-|-|-|-|-|-|-|-|-|-|-|-|-|-|-|-|-|-|-|-|-|-|-|-|-|-|-|-|-|-|-|-|-|-|-|-|-|-|-|-|-|-|-|-|-|-|-|-|-|-|-|-|-|-|-|-|-|-|-\n",
    "\n",
    "Реализация на `на Python`:"
   ]
  },
  {
   "cell_type": "code",
   "execution_count": 9,
   "metadata": {},
   "outputs": [
    {
     "data": {
      "text/plain": [
       "(9568, 5)"
      ]
     },
     "execution_count": 9,
     "metadata": {},
     "output_type": "execute_result"
    }
   ],
   "source": [
    "df.shape"
   ]
  },
  {
   "cell_type": "code",
   "execution_count": 10,
   "metadata": {},
   "outputs": [
    {
     "data": {
      "image/png": "[encoded data removed]",
      "text/plain": [
       "<Figure size 432x288 with 2 Axes>"
      ]
     },
     "metadata": {
      "needs_background": "light"
     },
     "output_type": "display_data"
    },
    {
     "data": {
      "image/png": "[encoded data removed]",
      "text/plain": [
       "<Figure size 432x288 with 2 Axes>"
      ]
     },
     "metadata": {
      "needs_background": "light"
     },
     "output_type": "display_data"
    },
    {
     "data": {
      "image/png": "[encoded data removed]",
      "text/plain": [
       "<Figure size 432x288 with 2 Axes>"
      ]
     },
     "metadata": {
      "needs_background": "light"
     },
     "output_type": "display_data"
    },
    {
     "data": {
      "image/png": "[encoded data removed]",
      "text/plain": [
       "<Figure size 432x288 with 2 Axes>"
      ]
     },
     "metadata": {
      "needs_background": "light"
     },
     "output_type": "display_data"
    },
    {
     "data": {
      "image/png": "[encoded data removed]",
      "text/plain": [
       "<Figure size 432x288 with 2 Axes>"
      ]
     },
     "metadata": {
      "needs_background": "light"
     },
     "output_type": "display_data"
    }
   ],
   "source": [
    "import matplotlib.pyplot as plt\n",
    "import seaborn \n",
    "\n",
    "\n",
    "f, ax = plt.subplots(2,1, sharex=True)\n",
    "ax[0].set_title(\"Гистограмма распределения\")\n",
    "ax[1].set_title('Диаграмма рассеивания')\n",
    "\n",
    "seaborn.boxplot(df['AT'], ax=ax[1])\n",
    "seaborn.distplot(df['AT'], ax=ax[0])\n",
    "\n",
    "\n",
    "f, ax = plt.subplots(2,1, sharex=True)\n",
    "seaborn.boxplot(df['V'], ax=ax[1])\n",
    "seaborn.distplot(df['V'], ax=ax[0])\n",
    "\n",
    "f, ax = plt.subplots(2,1, sharex=True)\n",
    "seaborn.boxplot(df['AP'], ax=ax[1])\n",
    "seaborn.distplot(df['AP'], ax=ax[0])\n",
    "\n",
    "\n",
    "f, ax = plt.subplots(2,1, sharex=True)\n",
    "seaborn.boxplot(df['RH'], ax=ax[1])\n",
    "seaborn.distplot(df['RH'], ax=ax[0])\n",
    "\n",
    "f, ax = plt.subplots(2,1, sharex=True)\n",
    "seaborn.boxplot(df['PE'], ax=ax[1])\n",
    "seaborn.distplot(df['PE'], ax=ax[0])\n",
    "plt.show()\n",
    "\n",
    "\n",
    "\n"
   ]
  },
  {
   "cell_type": "code",
   "execution_count": 11,
   "metadata": {},
   "outputs": [
    {
     "data": {
      "text/html": [
       "<div>\n",
       "<style scoped>\n",
       "    .dataframe tbody tr th:only-of-type {\n",
       "        vertical-align: middle;\n",
       "    }\n",
       "\n",
       "    .dataframe tbody tr th {\n",
       "        vertical-align: top;\n",
       "    }\n",
       "\n",
       "    .dataframe thead th {\n",
       "        text-align: right;\n",
       "    }\n",
       "</style>\n",
       "<table border=\"1\" class=\"dataframe\">\n",
       "  <thead>\n",
       "    <tr style=\"text-align: right;\">\n",
       "      <th></th>\n",
       "      <th>AT</th>\n",
       "      <th>V</th>\n",
       "      <th>AP</th>\n",
       "      <th>RH</th>\n",
       "      <th>PE</th>\n",
       "    </tr>\n",
       "  </thead>\n",
       "  <tbody>\n",
       "    <tr>\n",
       "      <td>0</td>\n",
       "      <td>8</td>\n",
       "      <td>41</td>\n",
       "      <td>1011</td>\n",
       "      <td>90</td>\n",
       "      <td>480</td>\n",
       "    </tr>\n",
       "    <tr>\n",
       "      <td>1</td>\n",
       "      <td>24</td>\n",
       "      <td>58</td>\n",
       "      <td>1011</td>\n",
       "      <td>74</td>\n",
       "      <td>446</td>\n",
       "    </tr>\n",
       "    <tr>\n",
       "      <td>2</td>\n",
       "      <td>30</td>\n",
       "      <td>57</td>\n",
       "      <td>1007</td>\n",
       "      <td>42</td>\n",
       "      <td>439</td>\n",
       "    </tr>\n",
       "    <tr>\n",
       "      <td>3</td>\n",
       "      <td>19</td>\n",
       "      <td>50</td>\n",
       "      <td>1007</td>\n",
       "      <td>77</td>\n",
       "      <td>453</td>\n",
       "    </tr>\n",
       "    <tr>\n",
       "      <td>4</td>\n",
       "      <td>12</td>\n",
       "      <td>41</td>\n",
       "      <td>1017</td>\n",
       "      <td>97</td>\n",
       "      <td>464</td>\n",
       "    </tr>\n",
       "    <tr>\n",
       "      <td>5</td>\n",
       "      <td>14</td>\n",
       "      <td>39</td>\n",
       "      <td>1016</td>\n",
       "      <td>85</td>\n",
       "      <td>471</td>\n",
       "    </tr>\n",
       "    <tr>\n",
       "      <td>6</td>\n",
       "      <td>22</td>\n",
       "      <td>71</td>\n",
       "      <td>1008</td>\n",
       "      <td>75</td>\n",
       "      <td>442</td>\n",
       "    </tr>\n",
       "    <tr>\n",
       "      <td>7</td>\n",
       "      <td>14</td>\n",
       "      <td>42</td>\n",
       "      <td>1022</td>\n",
       "      <td>78</td>\n",
       "      <td>464</td>\n",
       "    </tr>\n",
       "    <tr>\n",
       "      <td>8</td>\n",
       "      <td>31</td>\n",
       "      <td>70</td>\n",
       "      <td>1010</td>\n",
       "      <td>37</td>\n",
       "      <td>429</td>\n",
       "    </tr>\n",
       "    <tr>\n",
       "      <td>9</td>\n",
       "      <td>7</td>\n",
       "      <td>38</td>\n",
       "      <td>1018</td>\n",
       "      <td>81</td>\n",
       "      <td>484</td>\n",
       "    </tr>\n",
       "  </tbody>\n",
       "</table>\n",
       "</div>"
      ],
      "text/plain": [
       "   AT   V    AP  RH   PE\n",
       "0   8  41  1011  90  480\n",
       "1  24  58  1011  74  446\n",
       "2  30  57  1007  42  439\n",
       "3  19  50  1007  77  453\n",
       "4  12  41  1017  97  464\n",
       "5  14  39  1016  85  471\n",
       "6  22  71  1008  75  442\n",
       "7  14  42  1022  78  464\n",
       "8  31  70  1010  37  429\n",
       "9   7  38  1018  81  484"
      ]
     },
     "execution_count": 11,
     "metadata": {},
     "output_type": "execute_result"
    }
   ],
   "source": [
    "df.head(10)"
   ]
  },
  {
   "cell_type": "markdown",
   "metadata": {},
   "source": [
    "|-|-|-|-|-|-|-|-|-|-|-|-|-|-|-|-|-|-|-|-|-|-|-|-|-|-|-|-|-|-|-|-|-|-|-|-|-|-|-|-|-|-|-|-|-|-|-|-|-|-|-|-|-|-|-|-|-|-|-|-|-|-|-|-|-|-|-|-|-|-|-|-|-|-|-|-|-|-|-|-|-|-|-|-|-|-|-|-|-|-|-|-|-|-|-|-|-|-|-|-|-|-|-|-|-|-|-|-|-|-|-|-|-"
   ]
  },
  {
   "cell_type": "markdown",
   "metadata": {},
   "source": [
    "**Шаг 6**"
   ]
  },
  {
   "cell_type": "markdown",
   "metadata": {},
   "source": [
    "Добавить описание к экспирименту из [датасета](http://archive.ics.uci.edu/ml/datasets/Combined+Cycle+Power+Plant#). \n",
    "\n",
    "**Description:**\n",
    "\n",
    "Данные электростанции комбинированного типа\n",
    "\n",
    "Вход:\n",
    "- Temperature (T) in the range 1.81°C and 37.11°C,\n",
    "- Ambient Pressure (AP) in the range 992.89-1033.30 milibar,\n",
    "- Relative Humidity (RH) in the range 25.56% to 100.16%\n",
    "- Exhaust Vacuum (V) in teh range 25.36-81.56 cm Hg\n",
    "\n",
    "Выход:\n",
    "- Net hourly electrical energy output (EP) 420.26-495.76 MW"
   ]
  },
  {
   "cell_type": "markdown",
   "metadata": {},
   "source": [
    "**Шаг 7**"
   ]
  },
  {
   "cell_type": "markdown",
   "metadata": {},
   "source": [
    "a) Переименовать столбцы датасета. Перетащить объект `Edit Metadata` в область экспиримента. **Search..=> Edit Metadata => Lauch columns selector**\n",
    "\n",
    "\n",
    "\n",
    "\n",
    "`Temp,Vacuum,Pressure, Humidity,Output`\n",
    "\n",
    "б) Привести значения в датасете к типу `Integer` **Data Type => 'Integer'**\n",
    "\n",
    "в) Запустите эксперимент, нажав **RUN** внизу страницы.\n",
    "\n",
    "г) Визуализировать данные. Выбрать **Visualize**.\n",
    "\n",
    "\n",
    "\n",
    "*После завершения эксперимента все модули имеют зеленую галочку, указывающую, что они успешно завершены.*"
   ]
  },
  {
   "cell_type": "markdown",
   "metadata": {},
   "source": [
    "|-|-|-|-|-|-|-|-|-|-|-|-|-|-|-|-|-|-|-|-|-|-|-|-|-|-|-|-|-|-|-|-|-|-|-|-|-|-|-|-|-|-|-|-|-|-|-|-|-|-|-|-|-|-|-|-|-|-|-|-|-|-|-|-|-|-|-|-|-|-|-|-|-|-|-|-|-|-|-|-|-|-|-|-|-|-|-|-|-|-|-|-|-|-|-|-|-|-|-|-|-|-|-|-|-|-|-|-|-|-|-|-|-\n",
    "\n",
    "Реализация на `на Python`:"
   ]
  },
  {
   "cell_type": "code",
   "execution_count": 12,
   "metadata": {},
   "outputs": [],
   "source": [
    "df.rename(columns={'AT':'Temp', 'V':'Vacuum', 'AP':'Pressure', 'RH':'Humidity', 'PE':'Output'}, inplace=True)"
   ]
  },
  {
   "cell_type": "code",
   "execution_count": 13,
   "metadata": {},
   "outputs": [
    {
     "data": {
      "text/html": [
       "<div>\n",
       "<style scoped>\n",
       "    .dataframe tbody tr th:only-of-type {\n",
       "        vertical-align: middle;\n",
       "    }\n",
       "\n",
       "    .dataframe tbody tr th {\n",
       "        vertical-align: top;\n",
       "    }\n",
       "\n",
       "    .dataframe thead th {\n",
       "        text-align: right;\n",
       "    }\n",
       "</style>\n",
       "<table border=\"1\" class=\"dataframe\">\n",
       "  <thead>\n",
       "    <tr style=\"text-align: right;\">\n",
       "      <th></th>\n",
       "      <th>Temp</th>\n",
       "      <th>Vacuum</th>\n",
       "      <th>Pressure</th>\n",
       "      <th>Humidity</th>\n",
       "      <th>Output</th>\n",
       "    </tr>\n",
       "  </thead>\n",
       "  <tbody>\n",
       "    <tr>\n",
       "      <td>0</td>\n",
       "      <td>8</td>\n",
       "      <td>41</td>\n",
       "      <td>1011</td>\n",
       "      <td>90</td>\n",
       "      <td>480</td>\n",
       "    </tr>\n",
       "    <tr>\n",
       "      <td>1</td>\n",
       "      <td>24</td>\n",
       "      <td>58</td>\n",
       "      <td>1011</td>\n",
       "      <td>74</td>\n",
       "      <td>446</td>\n",
       "    </tr>\n",
       "    <tr>\n",
       "      <td>2</td>\n",
       "      <td>30</td>\n",
       "      <td>57</td>\n",
       "      <td>1007</td>\n",
       "      <td>42</td>\n",
       "      <td>439</td>\n",
       "    </tr>\n",
       "    <tr>\n",
       "      <td>3</td>\n",
       "      <td>19</td>\n",
       "      <td>50</td>\n",
       "      <td>1007</td>\n",
       "      <td>77</td>\n",
       "      <td>453</td>\n",
       "    </tr>\n",
       "    <tr>\n",
       "      <td>4</td>\n",
       "      <td>12</td>\n",
       "      <td>41</td>\n",
       "      <td>1017</td>\n",
       "      <td>97</td>\n",
       "      <td>464</td>\n",
       "    </tr>\n",
       "  </tbody>\n",
       "</table>\n",
       "</div>"
      ],
      "text/plain": [
       "   Temp  Vacuum  Pressure  Humidity  Output\n",
       "0     8      41      1011        90     480\n",
       "1    24      58      1011        74     446\n",
       "2    30      57      1007        42     439\n",
       "3    19      50      1007        77     453\n",
       "4    12      41      1017        97     464"
      ]
     },
     "execution_count": 13,
     "metadata": {},
     "output_type": "execute_result"
    }
   ],
   "source": [
    "df.head()"
   ]
  },
  {
   "cell_type": "code",
   "execution_count": 14,
   "metadata": {
    "scrolled": true
   },
   "outputs": [
    {
     "data": {
      "text/html": [
       "<div>\n",
       "<style scoped>\n",
       "    .dataframe tbody tr th:only-of-type {\n",
       "        vertical-align: middle;\n",
       "    }\n",
       "\n",
       "    .dataframe tbody tr th {\n",
       "        vertical-align: top;\n",
       "    }\n",
       "\n",
       "    .dataframe thead th {\n",
       "        text-align: right;\n",
       "    }\n",
       "</style>\n",
       "<table border=\"1\" class=\"dataframe\">\n",
       "  <thead>\n",
       "    <tr style=\"text-align: right;\">\n",
       "      <th></th>\n",
       "      <th>Temp</th>\n",
       "      <th>Vacuum</th>\n",
       "      <th>Pressure</th>\n",
       "      <th>Humidity</th>\n",
       "      <th>Output</th>\n",
       "    </tr>\n",
       "  </thead>\n",
       "  <tbody>\n",
       "    <tr>\n",
       "      <td>0</td>\n",
       "      <td>8</td>\n",
       "      <td>41</td>\n",
       "      <td>1011</td>\n",
       "      <td>90</td>\n",
       "      <td>480</td>\n",
       "    </tr>\n",
       "    <tr>\n",
       "      <td>1</td>\n",
       "      <td>24</td>\n",
       "      <td>58</td>\n",
       "      <td>1011</td>\n",
       "      <td>74</td>\n",
       "      <td>446</td>\n",
       "    </tr>\n",
       "    <tr>\n",
       "      <td>2</td>\n",
       "      <td>30</td>\n",
       "      <td>57</td>\n",
       "      <td>1007</td>\n",
       "      <td>42</td>\n",
       "      <td>439</td>\n",
       "    </tr>\n",
       "    <tr>\n",
       "      <td>3</td>\n",
       "      <td>19</td>\n",
       "      <td>50</td>\n",
       "      <td>1007</td>\n",
       "      <td>77</td>\n",
       "      <td>453</td>\n",
       "    </tr>\n",
       "    <tr>\n",
       "      <td>4</td>\n",
       "      <td>12</td>\n",
       "      <td>41</td>\n",
       "      <td>1017</td>\n",
       "      <td>97</td>\n",
       "      <td>464</td>\n",
       "    </tr>\n",
       "    <tr>\n",
       "      <td>...</td>\n",
       "      <td>...</td>\n",
       "      <td>...</td>\n",
       "      <td>...</td>\n",
       "      <td>...</td>\n",
       "      <td>...</td>\n",
       "    </tr>\n",
       "    <tr>\n",
       "      <td>9563</td>\n",
       "      <td>15</td>\n",
       "      <td>49</td>\n",
       "      <td>1012</td>\n",
       "      <td>73</td>\n",
       "      <td>463</td>\n",
       "    </tr>\n",
       "    <tr>\n",
       "      <td>9564</td>\n",
       "      <td>33</td>\n",
       "      <td>78</td>\n",
       "      <td>1010</td>\n",
       "      <td>60</td>\n",
       "      <td>433</td>\n",
       "    </tr>\n",
       "    <tr>\n",
       "      <td>9565</td>\n",
       "      <td>16</td>\n",
       "      <td>43</td>\n",
       "      <td>1014</td>\n",
       "      <td>79</td>\n",
       "      <td>466</td>\n",
       "    </tr>\n",
       "    <tr>\n",
       "      <td>9566</td>\n",
       "      <td>18</td>\n",
       "      <td>60</td>\n",
       "      <td>1019</td>\n",
       "      <td>95</td>\n",
       "      <td>451</td>\n",
       "    </tr>\n",
       "    <tr>\n",
       "      <td>9567</td>\n",
       "      <td>24</td>\n",
       "      <td>51</td>\n",
       "      <td>1012</td>\n",
       "      <td>71</td>\n",
       "      <td>452</td>\n",
       "    </tr>\n",
       "  </tbody>\n",
       "</table>\n",
       "<p>9568 rows × 5 columns</p>\n",
       "</div>"
      ],
      "text/plain": [
       "      Temp  Vacuum  Pressure  Humidity  Output\n",
       "0        8      41      1011        90     480\n",
       "1       24      58      1011        74     446\n",
       "2       30      57      1007        42     439\n",
       "3       19      50      1007        77     453\n",
       "4       12      41      1017        97     464\n",
       "...    ...     ...       ...       ...     ...\n",
       "9563    15      49      1012        73     463\n",
       "9564    33      78      1010        60     433\n",
       "9565    16      43      1014        79     466\n",
       "9566    18      60      1019        95     451\n",
       "9567    24      51      1012        71     452\n",
       "\n",
       "[9568 rows x 5 columns]"
      ]
     },
     "execution_count": 14,
     "metadata": {},
     "output_type": "execute_result"
    }
   ],
   "source": [
    "df.astype(int, inplace=True)"
   ]
  },
  {
   "cell_type": "code",
   "execution_count": 15,
   "metadata": {},
   "outputs": [
    {
     "data": {
      "text/plain": [
       "Temp        int64\n",
       "Vacuum      int64\n",
       "Pressure    int64\n",
       "Humidity    int64\n",
       "Output      int64\n",
       "dtype: object"
      ]
     },
     "execution_count": 15,
     "metadata": {},
     "output_type": "execute_result"
    }
   ],
   "source": [
    "df.dtypes"
   ]
  },
  {
   "cell_type": "markdown",
   "metadata": {},
   "source": [
    "|-|-|-|-|-|-|-|-|-|-|-|-|-|-|-|-|-|-|-|-|-|-|-|-|-|-|-|-|-|-|-|-|-|-|-|-|-|-|-|-|-|-|-|-|-|-|-|-|-|-|-|-|-|-|-|-|-|-|-|-|-|-|-|-|-|-|-|-|-|-|-|-|-|-|-|-|-|-|-|-|-|-|-|-|-|-|-|-|-|-|-|-|-|-|-|-|-|-|-|-|-|-|-|-|-|-|-|-|-|-|-|-|-"
   ]
  },
  {
   "cell_type": "markdown",
   "metadata": {},
   "source": [
    "**Шаг 8**"
   ]
  },
  {
   "cell_type": "markdown",
   "metadata": {},
   "source": [
    "В нашем наборе данных каждая строка представляет данные по электростанции комбинированного типа в конкретный момент времени за 6 лет (2006-2011 гг.), а каждый столбец - это показатели(признаки) электростанции в этот менет времени.\n",
    "\n",
    "Выбор правильного набора признаков(фич) определяет точность прогноза. \n",
    "Некоторые признаки имеют сильную корреляцию с другими признакми, что приводит к переизбыточности данных, поэтому могут быть удалены. \n",
    "\n",
    "\n",
    "Модуль `Filter Based Feature Selection` определяет признаки в наборе данных с наибольшей предсказательной силой(точностью)\n",
    "\n",
    "\n",
    "\n",
    "a) Отфильтровать датасет, выбрав наиболее влияющие признаки на прогноз чистой почасовой выработки электроэнергии(Output). \n",
    "\n",
    "Перетащить объект `Filter Based Feature Selection` в область экспиримента и выбрать столбец Output. **Search..=> Filter Based Feature Selection => Lauch columns selector**\n",
    "\n",
    "`Output`\n",
    "\n",
    "б) Указаь необходимое количество призаков. **Number of desired features => '3'**\n",
    "\n",
    "в) Выбрать статистический метрику Пирсона для начисления баллов для каждого столбца(признака). **Feature scoring method => 'Pearson Correlation'**\n",
    "\n",
    "г) Запустить эксперимент, нажав **RUN** внизу страницы.\n",
    "\n",
    "д) Визуализировать данные. Выбрать **Visualize**.\n",
    "\n",
    "\n",
    "\n",
    "\n"
   ]
  },
  {
   "cell_type": "markdown",
   "metadata": {},
   "source": [
    "**|************|**|************|**|************|**|************|**|************|**|************|**|************|**|************|**|************|**|************|**|************|**|************|**|************|**|************|**|************|**|************|**|************|**|************|**|************|**|************|**|************|**|************|**|************|**|************|**|************|**|************|**|************|**|************|**|************|**|************|**|************|**|************|**|************|**|************|**|************|**|************|**|************|**|************|**|************|**|************|**|************|**|************|**|************|**|************|**|************|**|************|**|************|**|************|**|************|**|************|**|************|**|************|**|************|**|************|**|************|**|************|**|************|**|************|**|************|**|************|**|************|"
   ]
  },
  {
   "cell_type": "markdown",
   "metadata": {},
   "source": [
    "#### Корреляция -"
   ]
  },
  {
   "cell_type": "markdown",
   "metadata": {},
   "source": [
    "Статистическая взаимосвязь двух и более случайных величин(признаков/фич), при изменение одной величины меняется другая"
   ]
  },
  {
   "cell_type": "markdown",
   "metadata": {},
   "source": [
    "*a) Линейный коэффициент корреляции Пирсона (для количественных данных)*\n"
   ]
  },
  {
   "cell_type": "markdown",
   "metadata": {},
   "source": [
    "![Формула](https://statanaliz.info/wp-content/uploads/2019/04/corr_form_3.png)"
   ]
  },
  {
   "cell_type": "markdown",
   "metadata": {},
   "source": [
    "Линейность корреляции проявляется в том, что точки расположены вдоль прямой линии. Положительный или отрицательный наклон такой линии определяется направлением взаимосвязи."
   ]
  },
  {
   "cell_type": "markdown",
   "metadata": {},
   "source": [
    "Коэффициент корреляции показывает тесноту линейной взаимосвязи и изменяется в диапазоне от -1 до 1. -1 (минус один) означает полную (функциональную) линейную обратную взаимосвязь. 1 (один) – полную (функциональную) линейную положительную взаимосвязь. 0 – отсутствие линейной корреляции (но не обязательно взаимосвязи). "
   ]
  },
  {
   "cell_type": "markdown",
   "metadata": {},
   "source": [
    "**|************|**|************|**|************|**|************|**|************|**|************|**|************|**|************|**|************|**|************|**|************|**|************|**|************|**|************|**|************|**|************|**|************|**|************|**|************|**|************|**|************|**|************|**|************|**|************|**|************|**|************|**|************|**|************|**|************|**|************|**|************|**|************|**|************|**|************|**|************|**|************|**|************|**|************|**|************|**|************|**|************|**|************|**|************|**|************|**|************|**|************|**|************|**|************|**|************|**|************|**|************|**|************|**|************|**|************|**|************|**|************|**|************|**|************|**|************|**|************|**|************|"
   ]
  },
  {
   "cell_type": "markdown",
   "metadata": {},
   "source": [
    "|-|-|-|-|-|-|-|-|-|-|-|-|-|-|-|-|-|-|-|-|-|-|-|-|-|-|-|-|-|-|-|-|-|-|-|-|-|-|-|-|-|-|-|-|-|-|-|-|-|-|-|-|-|-|-|-|-|-|-|-|-|-|-|-|-|-|-|-|-|-|-|-|-|-|-|-|-|-|-|-|-|-|-|-|-|-|-|-|-|-|-|-|-|-|-|-|-|-|-|-|-|-|-|-|-|-|-|-|-|-|-|-|-\n",
    "\n",
    "Реализация на `на Python`:"
   ]
  },
  {
   "cell_type": "code",
   "execution_count": 16,
   "metadata": {},
   "outputs": [
    {
     "data": {
      "text/html": [
       "<div>\n",
       "<style scoped>\n",
       "    .dataframe tbody tr th:only-of-type {\n",
       "        vertical-align: middle;\n",
       "    }\n",
       "\n",
       "    .dataframe tbody tr th {\n",
       "        vertical-align: top;\n",
       "    }\n",
       "\n",
       "    .dataframe thead th {\n",
       "        text-align: right;\n",
       "    }\n",
       "</style>\n",
       "<table border=\"1\" class=\"dataframe\">\n",
       "  <thead>\n",
       "    <tr style=\"text-align: right;\">\n",
       "      <th></th>\n",
       "      <th>Temp</th>\n",
       "      <th>Vacuum</th>\n",
       "      <th>Pressure</th>\n",
       "      <th>Humidity</th>\n",
       "      <th>Output</th>\n",
       "    </tr>\n",
       "  </thead>\n",
       "  <tbody>\n",
       "    <tr>\n",
       "      <td>Temp</td>\n",
       "      <td>1.000000</td>\n",
       "      <td>0.842695</td>\n",
       "      <td>-0.506248</td>\n",
       "      <td>-0.542452</td>\n",
       "      <td>-0.947466</td>\n",
       "    </tr>\n",
       "    <tr>\n",
       "      <td>Vacuum</td>\n",
       "      <td>0.842695</td>\n",
       "      <td>1.000000</td>\n",
       "      <td>-0.412291</td>\n",
       "      <td>-0.312765</td>\n",
       "      <td>-0.868916</td>\n",
       "    </tr>\n",
       "    <tr>\n",
       "      <td>Pressure</td>\n",
       "      <td>-0.506248</td>\n",
       "      <td>-0.412291</td>\n",
       "      <td>1.000000</td>\n",
       "      <td>0.099391</td>\n",
       "      <td>0.517790</td>\n",
       "    </tr>\n",
       "    <tr>\n",
       "      <td>Humidity</td>\n",
       "      <td>-0.542452</td>\n",
       "      <td>-0.312765</td>\n",
       "      <td>0.099391</td>\n",
       "      <td>1.000000</td>\n",
       "      <td>0.390035</td>\n",
       "    </tr>\n",
       "    <tr>\n",
       "      <td>Output</td>\n",
       "      <td>-0.947466</td>\n",
       "      <td>-0.868916</td>\n",
       "      <td>0.517790</td>\n",
       "      <td>0.390035</td>\n",
       "      <td>1.000000</td>\n",
       "    </tr>\n",
       "  </tbody>\n",
       "</table>\n",
       "</div>"
      ],
      "text/plain": [
       "              Temp    Vacuum  Pressure  Humidity    Output\n",
       "Temp      1.000000  0.842695 -0.506248 -0.542452 -0.947466\n",
       "Vacuum    0.842695  1.000000 -0.412291 -0.312765 -0.868916\n",
       "Pressure -0.506248 -0.412291  1.000000  0.099391  0.517790\n",
       "Humidity -0.542452 -0.312765  0.099391  1.000000  0.390035\n",
       "Output   -0.947466 -0.868916  0.517790  0.390035  1.000000"
      ]
     },
     "execution_count": 16,
     "metadata": {},
     "output_type": "execute_result"
    }
   ],
   "source": [
    "research_list = [i for i in df.columns]\n",
    "corr_m = df[research_list].corr()\n",
    "corr_m"
   ]
  },
  {
   "cell_type": "code",
   "execution_count": 17,
   "metadata": {},
   "outputs": [
    {
     "data": {
      "text/plain": [
       "<matplotlib.axes._subplots.AxesSubplot at 0x1a1d6ec950>"
      ]
     },
     "execution_count": 17,
     "metadata": {},
     "output_type": "execute_result"
    },
    {
     "data": {
      "image/png": "[encoded data removed]",
      "text/plain": [
       "<Figure size 504x360 with 2 Axes>"
      ]
     },
     "metadata": {
      "needs_background": "light"
     },
     "output_type": "display_data"
    }
   ],
   "source": [
    "plt.figure(figsize=(7,5))\n",
    "seaborn.heatmap(corr_m,center=0,annot=True)"
   ]
  },
  {
   "cell_type": "code",
   "execution_count": 18,
   "metadata": {},
   "outputs": [
    {
     "name": "stdout",
     "output_type": "stream",
     "text": [
      "Kоэфициент корреляции -0.9474658579704532\n"
     ]
    },
    {
     "data": {
      "image/png": "[encoded data removed]",
      "text/plain": [
       "<Figure size 432x288 with 1 Axes>"
      ]
     },
     "metadata": {
      "needs_background": "light"
     },
     "output_type": "display_data"
    },
    {
     "name": "stdout",
     "output_type": "stream",
     "text": [
      "Kоэфициент корреляции -0.8689161408055117\n"
     ]
    },
    {
     "data": {
      "image/png": "[encoded data removed]",
      "text/plain": [
       "<Figure size 432x288 with 1 Axes>"
      ]
     },
     "metadata": {
      "needs_background": "light"
     },
     "output_type": "display_data"
    },
    {
     "name": "stdout",
     "output_type": "stream",
     "text": [
      "Kоэфициент корреляции 0.517790366462871\n"
     ]
    },
    {
     "data": {
      "image/png": "[encoded data removed]",
      "text/plain": [
       "<Figure size 432x288 with 1 Axes>"
      ]
     },
     "metadata": {
      "needs_background": "light"
     },
     "output_type": "display_data"
    }
   ],
   "source": [
    "for i in research_list[:-1]:\n",
    "    curr_corr = df[i].corr(df['Output'])\n",
    "    if abs(curr_corr) >= 0.5:\n",
    "        seaborn.scatterplot(x='Output',y=i,data=df)\n",
    "        print(\"Kоэфициент корреляции \" + str(curr_corr))\n",
    "        plt.title(\"Связь между ЧПВ электроэнергии и \" + str(i))\n",
    "        plt.show()"
   ]
  },
  {
   "cell_type": "markdown",
   "metadata": {},
   "source": [
    "|-|-|-|-|-|-|-|-|-|-|-|-|-|-|-|-|-|-|-|-|-|-|-|-|-|-|-|-|-|-|-|-|-|-|-|-|-|-|-|-|-|-|-|-|-|-|-|-|-|-|-|-|-|-|-|-|-|-|-|-|-|-|-|-|-|-|-|-|-|-|-|-|-|-|-|-|-|-|-|-|-|-|-|-|-|-|-|-|-|-|-|-|-|-|-|-|-|-|-|-|-|-|-|-|-|-|-|-|-|-|-|-|-\n"
   ]
  },
  {
   "cell_type": "markdown",
   "metadata": {},
   "source": [
    "**Шаг 9**"
   ]
  },
  {
   "cell_type": "markdown",
   "metadata": {},
   "source": [
    "Для того, чтобы понять насколько алгоритм ML хорошо отрыбатывает, необходимо его протестировать. Для этого - имеющие данные необходимо разделить на выборку, на которых модель будет обучаться(обучающая выборка), и на выборку для проверки модели(тестовая выборка)."
   ]
  },
  {
   "cell_type": "markdown",
   "metadata": {},
   "source": [
    "Делим датасет на обущающую и тестовую выборку в соотношении 70/30.  Перетащить объект `Split Data` в область экспиримента. **Search..=> Split Data => Fraction of rows.... =>'0.7'**\n",
    "\n",
    "\n"
   ]
  },
  {
   "cell_type": "markdown",
   "metadata": {},
   "source": [
    "|-|-|-|-|-|-|-|-|-|-|-|-|-|-|-|-|-|-|-|-|-|-|-|-|-|-|-|-|-|-|-|-|-|-|-|-|-|-|-|-|-|-|-|-|-|-|-|-|-|-|-|-|-|-|-|-|-|-|-|-|-|-|-|-|-|-|-|-|-|-|-|-|-|-|-|-|-|-|-|-|-|-|-|-|-|-|-|-|-|-|-|-|-|-|-|-|-|-|-|-|-|-|-|-|-|-|-|-|-|-|-|-|-\n",
    "\n",
    "Реализация на `на Python`:"
   ]
  },
  {
   "cell_type": "code",
   "execution_count": 19,
   "metadata": {},
   "outputs": [],
   "source": [
    "from sklearn.model_selection import train_test_split\n",
    "X = df[['Temp','Vacuum','Pressure']].values\n",
    "y = df['Output'].values\n",
    "X_train, X_valid, y_train, y_valid = train_test_split(X, y, test_size=0.3, random_state=10 )"
   ]
  },
  {
   "cell_type": "code",
   "execution_count": 20,
   "metadata": {},
   "outputs": [
    {
     "data": {
      "text/plain": [
       "0.6999372909698997"
      ]
     },
     "execution_count": 20,
     "metadata": {},
     "output_type": "execute_result"
    }
   ],
   "source": [
    "len(X_train)/len(X)"
   ]
  },
  {
   "cell_type": "markdown",
   "metadata": {},
   "source": [
    "|-|-|-|-|-|-|-|-|-|-|-|-|-|-|-|-|-|-|-|-|-|-|-|-|-|-|-|-|-|-|-|-|-|-|-|-|-|-|-|-|-|-|-|-|-|-|-|-|-|-|-|-|-|-|-|-|-|-|-|-|-|-|-|-|-|-|-|-|-|-|-|-|-|-|-|-|-|-|-|-|-|-|-|-|-|-|-|-|-|-|-|-|-|-|-|-|-|-|-|-|-|-|-|-|-|-|-|-|-|-|-|-|-"
   ]
  },
  {
   "cell_type": "markdown",
   "metadata": {},
   "source": [
    "**Шаг 10**"
   ]
  },
  {
   "cell_type": "markdown",
   "metadata": {},
   "source": [
    "**Выбор типа модели:**\n",
    "\n",
    "\n",
    "а) *Обучение с учителем:*\n",
    "- линейная регрессия (выход - действительное число или числовой вектор)\n",
    "\n",
    "\n",
    "    \n",
    "Множество X – объекты, наблюдения, примеры, ситуации, входы (samples) – пространство признаков.\n",
    "\n",
    "Множество Y – ответы, отклики, «метки», выходы (responses).\n",
    "\n",
    "Имеется некоторая зависимость (детерминированная или вероятностная),\n",
    "позволяющая по x ∈ X предсказать y ∈ Y.\n",
    "Зависимость известна только на объектах из обучающей выборки.\n",
    "\n",
    "Задача обучения с учителем: восстановить (аппроксимировать) зависимость, т. е. построить функцию (решающее правило) f : X → Y,\n",
    "по новым объектам x ∈ X приближающую y на всем множестве X."
   ]
  },
  {
   "cell_type": "markdown",
   "metadata": {},
   "source": [
    "Поскольку мы хотим предсказать показатель **чистой почасовой выработки электроэнергии**, который является числом, мы будем использовать алгоритм **линейной регрессии**."
   ]
  },
  {
   "cell_type": "markdown",
   "metadata": {},
   "source": [
    "\n",
    "а)Перетащить объект `Linear Regression` в область экспиримента. **Search..=> Linear Regression**\n",
    "\n",
    "б) Выбрать метод **наименьших квадратов** и его параметры. **Solution method=> 'Ordinary Least Squares'**\n",
    "\n",
    "**L2 =>0.001**\n",
    "\n"
   ]
  },
  {
   "cell_type": "markdown",
   "metadata": {},
   "source": [
    "|-|-|-|-|-|-|-|-|-|-|-|-|-|-|-|-|-|-|-|-|-|-|-|-|-|-|-|-|-|-|-|-|-|-|-|-|-|-|-|-|-|-|-|-|-|-|-|-|-|-|-|-|-|-|-|-|-|-|-|-|-|-|-|-|-|-|-|-|-|-|-|-|-|-|-|-|-|-|-|-|-|-|-|-|-|-|-|-|-|-|-|-|-|-|-|-|-|-|-|-|-|-|-|-|-|-|-|-|-|-|-|-|-\n",
    "\n",
    "\n",
    "\n",
    "Реализация на `на Python`:"
   ]
  },
  {
   "cell_type": "code",
   "execution_count": 21,
   "metadata": {},
   "outputs": [],
   "source": [
    "from sklearn.linear_model import LinearRegression\n",
    "reg = LinearRegression()"
   ]
  },
  {
   "cell_type": "markdown",
   "metadata": {},
   "source": [
    "|-|-|-|-|-|-|-|-|-|-|-|-|-|-|-|-|-|-|-|-|-|-|-|-|-|-|-|-|-|-|-|-|-|-|-|-|-|-|-|-|-|-|-|-|-|-|-|-|-|-|-|-|-|-|-|-|-|-|-|-|-|-|-|-|-|-|-|-|-|-|-|-|-|-|-|-|-|-|-|-|-|-|-|-|-|-|-|-|-|-|-|-|-|-|-|-|-|-|-|-|-|-|-|-|-|-|-|-|-|-|-|-|-\n",
    "\n",
    "\n",
    "\n"
   ]
  },
  {
   "cell_type": "markdown",
   "metadata": {},
   "source": [
    "**Шаг 11**"
   ]
  },
  {
   "cell_type": "markdown",
   "metadata": {},
   "source": [
    "а)Обучить модель. Выбрать целевой(выходной) признак.\n",
    "\n",
    "\n",
    "Перетащить объект [`Train Model`](https://docs.microsoft.com/en-us/azure/machine-learning/studio-module-reference/train-model) в область экспиримента и столбец Output.  **Search..=> Train Model => Lauch columns selector** \n",
    "\n",
    "`Output`\n",
    "\n",
    "б) Посмотреть коэффициенты каждого из признаков."
   ]
  },
  {
   "cell_type": "markdown",
   "metadata": {},
   "source": [
    "|-|-|-|-|-|-|-|-|-|-|-|-|-|-|-|-|-|-|-|-|-|-|-|-|-|-|-|-|-|-|-|-|-|-|-|-|-|-|-|-|-|-|-|-|-|-|-|-|-|-|-|-|-|-|-|-|-|-|-|-|-|-|-|-|-|-|-|-|-|-|-|-|-|-|-|-|-|-|-|-|-|-|-|-|-|-|-|-|-|-|-|-|-|-|-|-|-|-|-|-|-|-|-|-|-|-|-|-|-|-|-|-|-\n",
    "\n",
    "\n",
    "\n",
    "Реализация на `на Python`:"
   ]
  },
  {
   "cell_type": "code",
   "execution_count": 22,
   "metadata": {},
   "outputs": [
    {
     "data": {
      "text/plain": [
       "LinearRegression(copy_X=True, fit_intercept=True, n_jobs=None, normalize=False)"
      ]
     },
     "execution_count": 22,
     "metadata": {},
     "output_type": "execute_result"
    }
   ],
   "source": [
    "reg.fit(X_train, y_train)"
   ]
  },
  {
   "cell_type": "markdown",
   "metadata": {},
   "source": [
    "|-|-|-|-|-|-|-|-|-|-|-|-|-|-|-|-|-|-|-|-|-|-|-|-|-|-|-|-|-|-|-|-|-|-|-|-|-|-|-|-|-|-|-|-|-|-|-|-|-|-|-|-|-|-|-|-|-|-|-|-|-|-|-|-|-|-|-|-|-|-|-|-|-|-|-|-|-|-|-|-|-|-|-|-|-|-|-|-|-|-|-|-|-|-|-|-|-|-|-|-|-|-|-|-|-|-|-|-|-|-|-|-|-\n",
    "\n"
   ]
  },
  {
   "cell_type": "markdown",
   "metadata": {},
   "source": [
    "**Шаг 12**"
   ]
  },
  {
   "cell_type": "markdown",
   "metadata": {},
   "source": [
    "Получить предсказания модели на тестовом датасете. \n",
    "\n",
    "a) Соединить модель с обучающимим датасетом и выбранным алгоритом. Соединить `Train Model` с модулем `Split Data` и модулем `Linear Regression`\n",
    "\n",
    "\n",
    "б) Запустить эксперимент, нажав **RUN** внизу страницы.\n",
    "\n",
    "в) Визуализировать данные. Выбрать **Visualize**."
   ]
  },
  {
   "cell_type": "markdown",
   "metadata": {},
   "source": [
    "|-|-|-|-|-|-|-|-|-|-|-|-|-|-|-|-|-|-|-|-|-|-|-|-|-|-|-|-|-|-|-|-|-|-|-|-|-|-|-|-|-|-|-|-|-|-|-|-|-|-|-|-|-|-|-|-|-|-|-|-|-|-|-|-|-|-|-|-|-|-|-|-|-|-|-|-|-|-|-|-|-|-|-|-|-|-|-|-|-|-|-|-|-|-|-|-|-|-|-|-|-|-|-|-|-|-|-|-|-|-|-|-|-\n",
    "\n",
    "\n",
    "\n",
    "Реализация на `на Python`:"
   ]
  },
  {
   "cell_type": "code",
   "execution_count": 23,
   "metadata": {},
   "outputs": [],
   "source": [
    "y_pred = reg.predict(X_valid)\n",
    "y_pred_train = reg.predict(X_train)"
   ]
  },
  {
   "cell_type": "markdown",
   "metadata": {},
   "source": [
    "|-|-|-|-|-|-|-|-|-|-|-|-|-|-|-|-|-|-|-|-|-|-|-|-|-|-|-|-|-|-|-|-|-|-|-|-|-|-|-|-|-|-|-|-|-|-|-|-|-|-|-|-|-|-|-|-|-|-|-|-|-|-|-|-|-|-|-|-|-|-|-|-|-|-|-|-|-|-|-|-|-|-|-|-|-|-|-|-|-|-|-|-|-|-|-|-|-|-|-|-|-|-|-|-|-|-|-|-|-|-|-|-|-\n"
   ]
  },
  {
   "cell_type": "markdown",
   "metadata": {},
   "source": [
    "**|************|**|************|**|************|**|************|**|************|**|************|**|************|**|************|**|************|**|************|**|************|**|************|**|************|**|************|**|************|**|************|**|************|**|************|**|************|**|************|**|************|**|************|**|************|**|************|**|************|**|************|**|************|**|************|**|************|**|************|**|************|**|************|**|************|**|************|**|************|**|************|**|************|**|************|**|************|**|************|**|************|**|************|**|************|**|************|**|************|**|************|**|************|**|************|**|************|**|************|**|************|**|************|**|************|**|************|**|************|**|************|**|************|**|************|**|************|**|************|**|************|"
   ]
  },
  {
   "cell_type": "markdown",
   "metadata": {},
   "source": [
    "\n",
    "$$ \n",
    "f(x) = {a}\\cdot{x} + b\n",
    "$$"
   ]
  },
  {
   "cell_type": "markdown",
   "metadata": {},
   "source": [
    "$$ \n",
    "Output = Output(Temp)= {W(Temp)}\\cdot{Temp} + {W(Vacuum)}\\cdot{Vacuum} + {W(Pressure)}\\cdot{Pressure} + {W(Bias)}\\cdot{1}\n",
    "$$ \n"
   ]
  },
  {
   "cell_type": "markdown",
   "metadata": {},
   "source": [
    "В виде матриц:\n",
    "    $$ \n",
    "    Y = {X}\\cdot{W}\n",
    "    $$ \n",
    "    \n",
    "    "
   ]
  },
  {
   "cell_type": "markdown",
   "metadata": {},
   "source": [
    "$$ \n",
    "W=({Xtr}\\cdot{X})^-1*{Xtr}\\cdot{Y}\n",
    "$$   "
   ]
  },
  {
   "cell_type": "markdown",
   "metadata": {},
   "source": [
    "**|************|**|************|**|************|**|************|**|************|**|************|**|************|**|************|**|************|**|************|**|************|**|************|**|************|**|************|**|************|**|************|**|************|**|************|**|************|**|************|**|************|**|************|**|************|**|************|**|************|**|************|**|************|**|************|**|************|**|************|**|************|**|************|**|************|**|************|**|************|**|************|**|************|**|************|**|************|**|************|**|************|**|************|**|************|**|************|**|************|**|************|**|************|**|************|**|************|**|************|**|************|**|************|**|************|**|************|**|************|**|************|**|************|**|************|**|************|**|************|**|************|"
   ]
  },
  {
   "cell_type": "markdown",
   "metadata": {},
   "source": [
    "|-|-|-|-|-|-|-|-|-|-|-|-|-|-|-|-|-|-|-|-|-|-|-|-|-|-|-|-|-|-|-|-|-|-|-|-|-|-|-|-|-|-|-|-|-|-|-|-|-|-|-|-|-|-|-|-|-|-|-|-|-|-|-|-|-|-|-|-|-|-|-|-|-|-|-|-|-|-|-|-|-|-|-|-|-|-|-|-|-|-|-|-|-|-|-|-|-|-|-|-|-|-|-|-|-|-|-|-|-|-|-|-|-\n",
    "\n",
    "\n",
    "\n",
    "Реализация на `на Python`:"
   ]
  },
  {
   "cell_type": "code",
   "execution_count": 24,
   "metadata": {},
   "outputs": [
    {
     "data": {
      "text/plain": [
       "array([-1.62213679, -0.33309584,  0.16121838])"
      ]
     },
     "execution_count": 24,
     "metadata": {},
     "output_type": "execute_result"
    }
   ],
   "source": [
    "a = reg.coef_\n",
    "a"
   ]
  },
  {
   "cell_type": "code",
   "execution_count": 25,
   "metadata": {},
   "outputs": [
    {
     "data": {
      "text/plain": [
       "340.99960653619905"
      ]
     },
     "execution_count": 25,
     "metadata": {},
     "output_type": "execute_result"
    }
   ],
   "source": [
    "b = reg.intercept_\n",
    "b"
   ]
  },
  {
   "cell_type": "markdown",
   "metadata": {},
   "source": [
    "|-|-|-|-|-|-|-|-|-|-|-|-|-|-|-|-|-|-|-|-|-|-|-|-|-|-|-|-|-|-|-|-|-|-|-|-|-|-|-|-|-|-|-|-|-|-|-|-|-|-|-|-|-|-|-|-|-|-|-|-|-|-|-|-|-|-|-|-|-|-|-|-|-|-|-|-|-|-|-|-|-|-|-|-|-|-|-|-|-|-|-|-|-|-|-|-|-|-|-|-|-|-|-|-|-|-|-|-|-|-|-|-|-\n",
    "\n",
    "\n"
   ]
  },
  {
   "cell_type": "markdown",
   "metadata": {},
   "source": [
    "**Шаг 13**"
   ]
  },
  {
   "cell_type": "markdown",
   "metadata": {},
   "source": [
    "Оценить модель. \n",
    "\n",
    "а)Перетащить объект [`Score Model`](https://docs.microsoft.com/en-us/azure/machine-learning/studio-module-reference/score-model) в область экспиримента. **Search..=> Score Model => Lauch columns selector** \n",
    "\n",
    "б) Запустить эксперимент, нажав **RUN** внизу страницы.\n",
    "\n",
    "в) Визуализировать данные. Выбрать **Visualize**.\n",
    "\n",
    "\n",
    "\n",
    "\n",
    "**|************|**|************|**|************|**|************|**|************|**|************|**|************|**|************|**|************|**|************|**|************|**|************|**|************|**|************|**|************|**|************|**|************|**|************|**|************|**|************|**|************|**|************|**|************|**|************|**|************|**|************|**|************|**|************|**|************|**|************|**|************|**|************|**|************|**|************|**|************|**|************|**|************|**|************|**|************|**|************|**|************|**|************|**|************|**|************|**|************|**|************|**|************|**|************|**|************|**|************|**|************|**|************|**|************|**|************|**|************|**|************|**|************|**|************|**|************|**|************|**|************|\n",
    "\n",
    "\n",
    "\n",
    "\n",
    "\n",
    "- Mean Absolute Error\t- Средняя абсолютная ошибка (MAE) - это сумма отклонений истинных значений от предсказанных моделью. Чем ближе к 0, тем лучше.\n",
    "![Формула](https://www.saedsayad.com/images/MAE.png)\n",
    "![Формула](https://www.saedsayad.com/images/actual_predicted.png)\n",
    "\n",
    "- Root Mean Squared Error\t- Среднеквадратическая ошибка (RMSE) - квадрат отклонения от истинного значения. Чем ближе к 0, тем лучше. Лучше применять, когда уверены, что в выборке нет выбросов (значений, которые очень сильно отличаются от остальных точек)\n",
    "![Формула](https://www.saedsayad.com/images/RMSE.png)\n",
    "\n",
    "\n",
    "\n",
    "- Relative Absolute Error\t- Относительная абсолютная ошибка (RAE) - относительная абсолютная разница между ожидаемыми и фактическими значениями.\n",
    "![Формула](https://www.saedsayad.com/images/RAE.png)\n",
    "\n",
    "- Relative Squared Error - Аналогичным образом нормализует общую квадратичную ошибку прогнозируемых значений путем деления на общую квадратичную ошибку фактических значений.\n",
    "![Формула](https://www.saedsayad.com/images/RSE.png)\n",
    "\n",
    "- Coefficient of Determination - Коэффициент детерминации , часто называемый R 2 , представляет прогнозирующую способность модели в виде значения от 0 до 1. Ноль означает, что модель является случайной (ничего не объясняет); 1 означает идеальную подгонку. Однако при интерпретации значений R 2 следует соблюдать осторожность , поскольку низкие значения могут быть совершенно нормальными, а высокие значения могут быть подозрительными. Равен отношению суммы квадратов регрессии SSR к общей вариации SST\n",
    "![Формула](https://studfile.net/html/2706/365/html_ZtOPE3PdVK.X8Pb/img-Ghi5bt.png)\n",
    "\n",
    "\n",
    "**|************|**|************|**|************|**|************|**|************|**|************|**|************|**|************|**|************|**|************|**|************|**|************|**|************|**|************|**|************|**|************|**|************|**|************|**|************|**|************|**|************|**|************|**|************|**|************|**|************|**|************|**|************|**|************|**|************|**|************|**|************|**|************|**|************|**|************|**|************|**|************|**|************|**|************|**|************|**|************|**|************|**|************|**|************|**|************|**|************|**|************|**|************|**|************|**|************|**|************|**|************|**|************|**|************|**|************|**|************|**|************|**|************|**|************|**|************|**|************|**|************|"
   ]
  },
  {
   "cell_type": "markdown",
   "metadata": {},
   "source": [
    "|-|-|-|-|-|-|-|-|-|-|-|-|-|-|-|-|-|-|-|-|-|-|-|-|-|-|-|-|-|-|-|-|-|-|-|-|-|-|-|-|-|-|-|-|-|-|-|-|-|-|-|-|-|-|-|-|-|-|-|-|-|-|-|-|-|-|-|-|-|-|-|-|-|-|-|-|-|-|-|-|-|-|-|-|-|-|-|-|-|-|-|-|-|-|-|-|-|-|-|-|-|-|-|-|-|-|-|-|-|-|-|-|-\n",
    "\n",
    "\n",
    "\n",
    "Реализация на `на Python`:"
   ]
  },
  {
   "cell_type": "code",
   "execution_count": 26,
   "metadata": {},
   "outputs": [
    {
     "name": "stdout",
     "output_type": "stream",
     "text": [
      "MAE_train= 3.8854439336681597\n"
     ]
    }
   ],
   "source": [
    "from sklearn.metrics import mean_absolute_error\n",
    "print(\"MAE_train= %s\" % mean_absolute_error(y_train, y_pred_train))"
   ]
  },
  {
   "cell_type": "code",
   "execution_count": 27,
   "metadata": {},
   "outputs": [
    {
     "name": "stdout",
     "output_type": "stream",
     "text": [
      "MAE_valid= 3.934159750439822\n"
     ]
    }
   ],
   "source": [
    "print(\"MAE_valid= %s\" % mean_absolute_error(y_valid, y_pred)) # не сильно хуже"
   ]
  },
  {
   "cell_type": "code",
   "execution_count": 28,
   "metadata": {},
   "outputs": [
    {
     "name": "stdout",
     "output_type": "stream",
     "text": [
      "RMSE_train= 24.165439514940147\n"
     ]
    }
   ],
   "source": [
    "from sklearn.metrics import mean_squared_error\n",
    "print(\"RMSE_train= %s\" % mean_squared_error(y_train, y_pred_train))"
   ]
  },
  {
   "cell_type": "code",
   "execution_count": 29,
   "metadata": {},
   "outputs": [
    {
     "name": "stdout",
     "output_type": "stream",
     "text": [
      "RMSE_valid= 24.079008756556227\n"
     ]
    }
   ],
   "source": [
    "\n",
    "print(\"RMSE_valid= %s\" % mean_squared_error(y_valid, y_pred))"
   ]
  },
  {
   "cell_type": "markdown",
   "metadata": {},
   "source": [
    "|-|-|-|-|-|-|-|-|-|-|-|-|-|-|-|-|-|-|-|-|-|-|-|-|-|-|-|-|-|-|-|-|-|-|-|-|-|-|-|-|-|-|-|-|-|-|-|-|-|-|-|-|-|-|-|-|-|-|-|-|-|-|-|-|-|-|-|-|-|-|-|-|-|-|-|-|-|-|-|-|-|-|-|-|-|-|-|-|-|-|-|-|-|-|-|-|-|-|-|-|-|-|-|-|-|-|-|-|-|-|-|-|-\n",
    "\n",
    "\n",
    "\n",
    "Реализация на `на Python`:"
   ]
  },
  {
   "cell_type": "markdown",
   "metadata": {},
   "source": [
    "**Шаг 14**"
   ]
  },
  {
   "cell_type": "markdown",
   "metadata": {},
   "source": [
    "Повторить *шаги с 10 по 12*, НО...\n",
    "а) Выбрать метод градиентный спуск и его параметры: размер шага, количество итераций, вес регуляризации. **Solution method=> 'Online Gradien Descent'**\n",
    "\n",
    "**Learning rate => '0.1'**\n",
    "\n",
    "**Number of training => '1000'**\n",
    "\n",
    "**L2 => '0.001'**\n",
    "\n",
    "Этот метод минимизирует ошибку на каждом шаге процесса обучения модели. \n"
   ]
  },
  {
   "cell_type": "markdown",
   "metadata": {},
   "source": [
    "|-|-|-|-|-|-|-|-|-|-|-|-|-|-|-|-|-|-|-|-|-|-|-|-|-|-|-|-|-|-|-|-|-|-|-|-|-|-|-|-|-|-|-|-|-|-|-|-|-|-|-|-|-|-|-|-|-|-|-|-|-|-|-|-|-|-|-|-|-|-|-|-|-|-|-|-|-|-|-|-|-|-|-|-|-|-|-|-|-|-|-|-|-|-|-|-|-|-|-|-|-|-|-|-|-|-|-|-|-|-|-|-|-\n",
    "\n",
    "\n",
    "\n",
    "Реализация на `на Python`:"
   ]
  },
  {
   "cell_type": "code",
   "execution_count": 30,
   "metadata": {},
   "outputs": [],
   "source": [
    "from sklearn.linear_model import SGDRegressor\n",
    "sgd_reg = SGDRegressor()"
   ]
  },
  {
   "cell_type": "markdown",
   "metadata": {},
   "source": [
    "|-|-|-|-|-|-|-|-|-|-|-|-|-|-|-|-|-|-|-|-|-|-|-|-|-|-|-|-|-|-|-|-|-|-|-|-|-|-|-|-|-|-|-|-|-|-|-|-|-|-|-|-|-|-|-|-|-|-|-|-|-|-|-|-|-|-|-|-|-|-|-|-|-|-|-|-|-|-|-|-|-|-|-|-|-|-|-|-|-|-|-|-|-|-|-|-|-|-|-|-|-|-|-|-|-|-|-|-|-|-|-|-|-\n",
    "\n",
    "\n",
    "\n"
   ]
  },
  {
   "cell_type": "markdown",
   "metadata": {},
   "source": [
    "**Шаг 15**"
   ]
  },
  {
   "cell_type": "markdown",
   "metadata": {},
   "source": [
    "а)Сравнить две получившиеся модели. Перетащить объект [`Evaluate Model`](https://docs.microsoft.com/en-us/azure/machine-learning/studio-module-reference/evaluate-model) в область экспиримента. **Search..=> Evaluate Model**\n",
    "\n",
    "б)Визуализировать данные. Выбрать **Visualize**."
   ]
  },
  {
   "cell_type": "markdown",
   "metadata": {},
   "source": [
    "### Эксперимент №2.1 - Кластеризация"
   ]
  },
  {
   "cell_type": "markdown",
   "metadata": {},
   "source": [
    "**Шаг 1**"
   ]
  },
  {
   "cell_type": "markdown",
   "metadata": {},
   "source": [
    "[Создать новый эксперимент](https://docs.microsoft.com/en-us/azure/machine-learning/studio/create-experiment). **EXPERIMENTS => +NEW => Blank Experiment**"
   ]
  },
  {
   "cell_type": "markdown",
   "metadata": {},
   "source": [
    "**Шаг 2**"
   ]
  },
  {
   "cell_type": "markdown",
   "metadata": {},
   "source": [
    "Импортировать набор данных `для кластризации` в ML Studio. Перетащить объект `Import Data` в область экспиримента. **Search..=> Import Data =>Data source URL:** http://archive.ics.uci.edu/ml/machine-learning-databases/iris/iris.data \n",
    "\n",
    "**Data source:** 'Web URL Via HTTP'\n",
    "\n",
    "\n",
    "**Data format:** 'CSV'"
   ]
  },
  {
   "cell_type": "markdown",
   "metadata": {},
   "source": [
    "**Шаг 3**"
   ]
  },
  {
   "cell_type": "markdown",
   "metadata": {},
   "source": [
    "Удалить строки в данных с пропущенными значениями с помощью модуля `Clean Missing Data`. **Search..=> Clean Missing Data => Cleaning mode:** 'Remove entire row'\n",
    "\n",
    "    "
   ]
  },
  {
   "cell_type": "markdown",
   "metadata": {},
   "source": [
    "**Шаг 4**"
   ]
  },
  {
   "cell_type": "markdown",
   "metadata": {},
   "source": [
    "a) Переименовать столбцы датасета. Перетащить объект `Edit Metadata` в область экспиримента. **Search..=> Edit Metadata => Lauch columns selector: All columns, All labels**\n",
    "\n",
    "\n",
    "`F1,F2,F3,F4,Label`\n",
    "\n",
    "\n",
    "б) Запустите эксперимент, нажав **RUN** внизу страницы.\n",
    "\n",
    "в) Визуализировать данные. Выбрать **Visualize**.\n",
    "\n"
   ]
  },
  {
   "cell_type": "markdown",
   "metadata": {},
   "source": [
    "**Шаг 5**"
   ]
  },
  {
   "cell_type": "markdown",
   "metadata": {},
   "source": [
    "a) Столбец Label сделать меткой. Перетащить объект `Edit Metadata` в область экспиримента. **Search..=> Edit Metadata => Lauch columns selector: Column names: 'Label'**\n",
    "\n",
    "\n",
    "**Fields:** 'Label'\n",
    "\n",
    "\n",
    "б) Запустите эксперимент, нажав **RUN** внизу страницы.\n",
    "\n",
    "в) Визуализировать данные. Выбрать **Visualize**.\n",
    "\n"
   ]
  },
  {
   "cell_type": "markdown",
   "metadata": {},
   "source": [
    "**Шаг 6**"
   ]
  },
  {
   "cell_type": "markdown",
   "metadata": {},
   "source": [
    "Делим датасет на обущающую и тестовую выборку в соотношении 60/40.  Перетащить объект `Split Data` в область экспиримента. **Search..=> Split Data => Fraction of rows.... =>'0.7'**\n",
    "\n",
    "\n"
   ]
  },
  {
   "cell_type": "markdown",
   "metadata": {},
   "source": [
    "**Шаг 7**"
   ]
  },
  {
   "cell_type": "markdown",
   "metadata": {},
   "source": [
    "\n",
    "**Выбор типа модели:**\n",
    "\n",
    "\n",
    "а) *Обучение без учителя:*\n",
    "- кластеризация (выход - группировка данных по схожим признакам в кластеры(группы)\n",
    "                 \n",
    "Есть только множество X – объекты, наблюдения, примеры, ситуации.\n",
    "\n",
    "Задача обучения без учителя: известны только описания множества объектов (обучающей выборки), требуется обнаружить внутренние взаимосвязи, зависимости, закономерности, существующие между объектами.\n",
    "\n",
    "\n",
    "Все алгоритмы кластеризации основаны на вычислении `расстояния` между точками в выборке.\n",
    "\n",
    "\n",
    "Восьпользуемся алгоритмом k-средних. Где k - это количество центроидов. Центроид - это точка, представляющая каждый кластер, на которые мы хотим разделить наш датасет.\n",
    "Если ваши данные размечены, вы можете использовать значения метки, чтобы определять выбор кластеров и оптимизировать модель.\n",
    "Если ваши данные не имеют метки, алгоритм создает кластеры, представляющие возможные категории, основываясь исключительно на данных.\n",
    "\n",
    "а) Перетащить объект [`K-Means Clustering`](https://docs.microsoft.com/en-us/azure/machine-learning/studio-module-reference/k-means-clustering) в область экспиримента. **Search..=> K-Means Clustering**\n",
    "\n",
    "**Create trainer mode=> 'Single Parameter'**\n",
    "\n",
    "\n",
    "**Number of Centroids**: '2'\n",
    "\n",
    "**Metric:** 'Cosine'\n",
    "\n",
    "\n",
    "**Iterations:** '10000'\n",
    "\n",
    "\n",
    "**Assign Label Mode:** 'Owerwrite...'\n",
    "\n",
    "\n"
   ]
  },
  {
   "cell_type": "markdown",
   "metadata": {},
   "source": [
    "**Шаг 8**"
   ]
  },
  {
   "cell_type": "markdown",
   "metadata": {},
   "source": [
    "а)Обучить модель. Выбрать столбцы для кластеризации.\n",
    "\n",
    "\n",
    "Перетащить объект [`Train Clustering Model`](https://docs.microsoft.com/en-us/azure/machine-learning/studio-module-reference/train-clustering-model) в область экспиримента и столбец Output.  **Search..=> Train Clustering Model => Lauch columns selector** \n",
    "\n",
    "`F1,F2,F3,F4,Label`\n",
    "\n"
   ]
  },
  {
   "cell_type": "markdown",
   "metadata": {},
   "source": [
    "**Шаг 9**"
   ]
  },
  {
   "cell_type": "markdown",
   "metadata": {},
   "source": [
    "Применяем алггоритм к данным и инициализируем кластеры.\n",
    "\n",
    "a) Соединить модель с обучающимим датасетом и выбранным алгоритом. Соединить [`Train Clustering Model`](https://docs.microsoft.com/en-us/azure/machine-learning/studio-module-reference/train-clustering-model) с модулем `Split Data` и модулем `K-Means Clustering`\n",
    "\n",
    "б) Запустить эксперимент, нажав **RUN** внизу страницы.\n",
    "\n",
    "в) Визуализировать данные. Выбрать **Visualize**."
   ]
  },
  {
   "cell_type": "markdown",
   "metadata": {},
   "source": [
    "**Шаг 10**"
   ]
  },
  {
   "cell_type": "markdown",
   "metadata": {},
   "source": [
    "Повторить шаги с 7 по 9. Но поменяем гиперпараметры алгоритма `K-Means Clustering`.\n",
    "\n",
    "\n",
    "**Create trainer mode=> 'Single Parameter'**\n",
    "\n",
    "\n",
    "**Number of Centroids**: '3'\n",
    "\n",
    "**Metric:** 'Cosine'\n",
    "\n",
    "\n",
    "**Iterations:** '100'\n",
    "\n",
    "\n",
    "**Assign Label Mode:** 'Owerwrite...'\n",
    "\n",
    "\n"
   ]
  },
  {
   "cell_type": "markdown",
   "metadata": {},
   "source": [
    "**Шаг 11**"
   ]
  },
  {
   "cell_type": "markdown",
   "metadata": {},
   "source": [
    "а)Сравнить две получившиеся модели. Перетащить объект `Evaluate Model` в область экспиримента. **Search..=> Evaluate Modelr**\n",
    "\n",
    "б)Визуализировать данные. Выбрать **Visualize**.\n",
    "\n",
    "Статистические данные, возвращаемые для модели кластеризации, описывают, сколько точек данных было назначено каждому кластеру, степень разделения между кластерами и насколько плотно точки данных сгруппированы в каждом кластере. Статистика для модели кластеризации усредняется по всему набору данных, с дополнительными строками, содержащими статистику по кластеру.\n",
    "\n",
    "\n",
    "- Average Distance to Cluster Center - Среднее расстояние до центра кластера (внутрикластерное расстояние) - представляют близость всех точек кластера к центроиду этого кластера. \n",
    "- Average Distance to Other Center - Среднее расстояние до другого центра (межкластерное расстояние) - показывает, насколько в среднем каждая точка в кластере находится относительно центроидов всех других кластеров.\n",
    "- Number of Points - Количество точек - сколько точек данных были назначены на каждый кластер\n",
    "- Maximal Distance To Cluster Center - Максимальное расстояние до центра кластера -  представляют сумму расстояний между каждой точкой и центром тяжести кластера\n",
    "\n",
    "\n",
    "Чем точки плотнее друг к другу внутри кластера(внутрикластерное расстояние) и дальше от точек из других кластеров(межкластерное расстояние), тем лучше обучена модель"
   ]
  },
  {
   "cell_type": "markdown",
   "metadata": {},
   "source": [
    "### Эксперимент №2.2 - Кластеризация *"
   ]
  },
  {
   "cell_type": "markdown",
   "metadata": {},
   "source": [
    "Повторить шаги из прошлого эксперимента (выгрузить датасет из прошлого эксперимента с помощью модуля `Convert to Dataset`) На шаге 7 -  **Выбор типа модели:** применить способ подбора количества центроидов с помощью параметров алгоритма \n",
    "**Create trainer mode=> 'Parameter Range'**\n",
    "\n",
    "\n",
    "**User Range Builder**: '2,3,4,5'\n",
    "\n",
    "**Metric:** 'Cosine'\n",
    "\n",
    "\n",
    "**Iterations:** '1000'\n",
    "\n",
    "\n",
    "**Assign Label Mode:** 'Owerwrite...'\n",
    "\n",
    "На шаге 8 добавить модуль `Train Clustering Model`(All columns\n",
    "Exclude column names: Class) и параллельно(для сравнения) добавить модуль [`Sweep Clustering`](https://docs.microsoft.com/en-us/azure/machine-learning/studio-module-reference/sweep-clustering) (Exclude column names: Class; Metric for measuring : Simplified ...'; Specify parameter sweeping: 'Entire grid'\n",
    "\n",
    "\n",
    "Сравнить два способа с помощью модуля `Evaluate Model`: \n",
    "\n",
    "Модуль Sweep Clustering создает несколько моделей кластеризации, перечисленных в порядке точности.  Модели измеряются с использованием всех возможных метрик.\n"
   ]
  },
  {
   "cell_type": "markdown",
   "metadata": {},
   "source": [
    "### Эксперимент №3 - Классификация"
   ]
  },
  {
   "cell_type": "markdown",
   "metadata": {},
   "source": [
    "**Шаг 1**"
   ]
  },
  {
   "cell_type": "markdown",
   "metadata": {},
   "source": [
    "Импортировать набор данных [`для классификации`](https://drive.google.com/open?id=17vGMKFJOYZCoXpHW0ZX1MfW3sI7JrZxO )в ML Studio. **DATASETS => +NEW =>**"
   ]
  },
  {
   "cell_type": "markdown",
   "metadata": {},
   "source": [
    "**Шаг 2**"
   ]
  },
  {
   "cell_type": "markdown",
   "metadata": {},
   "source": [
    "[Создать новый эксперимент](https://docs.microsoft.com/en-us/azure/machine-learning/studio/create-experiment). **EXPERIMENTS => +NEW => Blank Experiment**"
   ]
  },
  {
   "cell_type": "markdown",
   "metadata": {},
   "source": [
    "**Шаг 3**"
   ]
  },
  {
   "cell_type": "markdown",
   "metadata": {},
   "source": [
    "a) Выбрать необходимые столбцы датасета. Перетащить объект `Select Columns in Dataset` в область экспиримента. **Search..=> Select Columns in Dataset => Lauch columns selector: Columns names:**\n",
    "\n",
    "`STG,SCG,STR,LPR,PEG,UNS`\n",
    "\n",
    "\n",
    "б) Запустите эксперимент, нажав **RUN** внизу страницы.\n",
    "\n",
    "в) Визуализировать данные. Выбрать **Visualize**.\n",
    "\n"
   ]
  },
  {
   "cell_type": "markdown",
   "metadata": {},
   "source": [
    "**Шаг 4**"
   ]
  },
  {
   "cell_type": "markdown",
   "metadata": {},
   "source": [
    "a) Столбец UNS сделать меткой и переименовать . Перетащить объект `Edit Metadata` в область экспиримента. **Search..=> Edit Metadata => Lauch columns selector: Column names: 'UNS'**\n",
    "\n",
    "\n",
    "**Fields:** 'Label'\n",
    "**New column names:** 'Level'\n",
    "\n",
    "б) Запустите эксперимент, нажав **RUN** внизу страницы.\n",
    "\n",
    "в) Визуализировать данные. Выбрать **Visualize**."
   ]
  },
  {
   "cell_type": "markdown",
   "metadata": {},
   "source": [
    "**Шаг 5**\n"
   ]
  },
  {
   "cell_type": "markdown",
   "metadata": {},
   "source": [
    "\n",
    "**Выбор типа модели:**\n",
    "\n",
    "\n",
    "а) *Обучение c учителем:*\n",
    "\n",
    "- классификация (выход - метка класса)\n",
    "\n",
    "Множество X – объекты, наблюдения, примеры, ситуации, входы (samples) – пространство признаков.\n",
    "\n",
    "Множество Y – ответы, отклики, «метки», выходы (responses).\n",
    "\n",
    "Имеется некоторая зависимость (детерминированная или вероятностная),\n",
    "позволяющая по x ∈ X предсказать y ∈ Y.\n",
    "Зависимость известна только на объектах из обучающей выборки.\n",
    "\n",
    "Восьпользуемся алгоритмом `Multiclass Neural Network` - частный случай регрессии. \n",
    "\n",
    "а) Перетащить объект [`Multiclass Neural Network`](https://docs.microsoft.com/en-us/azure/machine-learning/studio-module-reference/multiclass-neural-network) в область экспиримента. **Search..=> Multiclass Neural Network**\n",
    "\n",
    "**Create trainer mode=> 'Single Parameter'**\n",
    "\n",
    "\n",
    "**Number of hidden nodes**: '1000'\n",
    "\n",
    "**The learning rate:** '0.1'\n",
    "\n",
    "**Number of learning iterati:** '1000'\n",
    "\n",
    "\n",
    "**The initial learning:** '0.1'\n",
    "\n",
    "**The momentum:** '0'\n",
    "\n"
   ]
  },
  {
   "cell_type": "markdown",
   "metadata": {},
   "source": [
    "**Шаг 6**"
   ]
  },
  {
   "cell_type": "markdown",
   "metadata": {},
   "source": [
    "Обучим, применим и оценим модель. Перекрестно оценем параметры модели классификации путем разделения данных с помощью модуля `Cross Validate Model` \n",
    "\n",
    "\n",
    "a) Перетащить объект [`Cross Validate Model`](https://docs.microsoft.com/en-us/azure/machine-learning/studio-module-reference/cross-validate-model) в область экспиримента. **Search..=>Cross Validate Model**=>\n",
    "**Selected columns:'\n",
    "Column names: Level'**\n",
    "\n",
    "\n",
    "б) Запустите эксперимент, нажав **RUN** внизу страницы.\n",
    "\n",
    "в) Визуализировать данные. Выбрать **Visualize**.\n"
   ]
  },
  {
   "cell_type": "markdown",
   "metadata": {},
   "source": [
    "**Шаг 7**"
   ]
  },
  {
   "cell_type": "markdown",
   "metadata": {},
   "source": [
    "Повторить шаги с 5 по 6. Но поменяем гиперпараметры алгоритма `Multiclass Neural Network` \n",
    "\n",
    "**Create trainer mode=> 'Single Parameter'**\n",
    "\n",
    "**Number of hidden nodes**: '100'\n",
    "\n",
    "**The learning rate:** '0.1'\n",
    "\n",
    "**Number of learning iterati:** '100'\n",
    "\n",
    "**The initial learning:** '0.1'\n",
    "\n",
    "**The momentum:** '0'\n",
    "\n",
    "\n"
   ]
  },
  {
   "cell_type": "markdown",
   "metadata": {},
   "source": [
    "**Шаг 8**"
   ]
  },
  {
   "cell_type": "markdown",
   "metadata": {},
   "source": [
    "а)Сравнить две получившиеся модели. Перетащить объект `Evaluate Model` в область экспиримента. **Search..=> Evaluate Modelr**\n",
    "\n",
    "б)Визуализировать данные. Выбрать **Visualize**.\n",
    "\n",
    "- Overall accuracy - точность -  измеряет качество модели классификации как отношение истинных результатов к общему количеству случаев.\n",
    "\n",
    "- Average accuracy  - это соотношение истинных результатов ко всем правильным результатам, которая вернула модель.\n",
    "\n",
    "- F-мера - оценка рассчитывается как средневзвешенное значение точности между 0 и 1 (или в процентном соотношении), где идеальное значение равно 1.\n",
    "\n",
    "- AUC измеряет площадь под кривой, построенной с истинными положительными значениями на оси Y и ложными положительными значениями на оси X. Эта метрика полезна, потому что она предоставляет одно число, которое позволяет сравнивать модели разных типов.\n",
    "\n"
   ]
  },
  {
   "cell_type": "markdown",
   "metadata": {},
   "source": [
    "### Эксперимент №3.2 - Класcификация*"
   ]
  },
  {
   "cell_type": "markdown",
   "metadata": {},
   "source": [
    "Применить на данных из эксперимента 3.1 алгоритмы кластеризации из эксперимента 2.2. И на полученных кластерах повторить эксперимент 3.1"
   ]
  },
  {
   "cell_type": "markdown",
   "metadata": {},
   "source": [
    "# Microsoft cognitive services"
   ]
  },
  {
   "cell_type": "markdown",
   "metadata": {},
   "source": [
    "**Шаг 1**\n",
    "Обзор конгитивных сервисов https://azure.microsoft.com/ru-ru/services/cognitive-services/ "
   ]
  },
  {
   "cell_type": "markdown",
   "metadata": {},
   "source": [
    "**Шаг 2**\n",
    "Работа с API. Получение апи-ключа https://azure.microsoft.com/en-us/try/cognitive-services/\n"
   ]
  },
  {
   "cell_type": "markdown",
   "metadata": {},
   "source": [
    "**Шаг 3**\n",
    "Написать программный код взаимодейтствия с когнитивными сервисами через API.\n",
    "\n",
    "\n",
    "- Обнаружение лиц https://docs.microsoft.com/ru-ru/azure/cognitive-services/face/ \n",
    "\n",
    "\n",
    "- Распознавание эмоций https://docs.microsoft.com/ru-ru/azure/cognitive-services/emotion/home\n",
    "\n"
   ]
  }
 ],
 "metadata": {
  "kernelspec": {
   "display_name": "Python 3",
   "language": "python",
   "name": "python3"
  },
  "language_info": {
   "codemirror_mode": {
    "name": "ipython",
    "version": 3
   },
   "file_extension": ".py",
   "mimetype": "text/x-python",
   "name": "python",
   "nbconvert_exporter": "python",
   "pygments_lexer": "ipython3",
   "version": "3.7.4"
  }
 },
 "nbformat": 4,
 "nbformat_minor": 2
}
